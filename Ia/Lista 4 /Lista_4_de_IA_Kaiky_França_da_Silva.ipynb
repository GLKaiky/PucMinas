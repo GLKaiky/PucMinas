{
  "nbformat": 4,
  "nbformat_minor": 0,
  "metadata": {
    "colab": {
      "provenance": []
    },
    "kernelspec": {
      "name": "python3",
      "display_name": "Python 3"
    },
    "language_info": {
      "name": "python"
    }
  },
  "cells": [
    {
      "cell_type": "code",
      "source": [
        "!pip install scikit-optimize\n"
      ],
      "metadata": {
        "colab": {
          "base_uri": "https://localhost:8080/"
        },
        "id": "ltM5sd_tTfKp",
        "outputId": "982fdb79-f32a-447f-ce9e-accd4a983505"
      },
      "execution_count": 2,
      "outputs": [
        {
          "output_type": "stream",
          "name": "stdout",
          "text": [
            "Collecting scikit-optimize\n",
            "  Downloading scikit_optimize-0.10.2-py2.py3-none-any.whl.metadata (9.7 kB)\n",
            "Requirement already satisfied: joblib>=0.11 in /usr/local/lib/python3.11/dist-packages (from scikit-optimize) (1.4.2)\n",
            "Collecting pyaml>=16.9 (from scikit-optimize)\n",
            "  Downloading pyaml-25.1.0-py3-none-any.whl.metadata (12 kB)\n",
            "Requirement already satisfied: numpy>=1.20.3 in /usr/local/lib/python3.11/dist-packages (from scikit-optimize) (2.0.2)\n",
            "Requirement already satisfied: scipy>=1.1.0 in /usr/local/lib/python3.11/dist-packages (from scikit-optimize) (1.14.1)\n",
            "Requirement already satisfied: scikit-learn>=1.0.0 in /usr/local/lib/python3.11/dist-packages (from scikit-optimize) (1.6.1)\n",
            "Requirement already satisfied: packaging>=21.3 in /usr/local/lib/python3.11/dist-packages (from scikit-optimize) (24.2)\n",
            "Requirement already satisfied: PyYAML in /usr/local/lib/python3.11/dist-packages (from pyaml>=16.9->scikit-optimize) (6.0.2)\n",
            "Requirement already satisfied: threadpoolctl>=3.1.0 in /usr/local/lib/python3.11/dist-packages (from scikit-learn>=1.0.0->scikit-optimize) (3.6.0)\n",
            "Downloading scikit_optimize-0.10.2-py2.py3-none-any.whl (107 kB)\n",
            "\u001b[2K   \u001b[90m━━━━━━━━━━━━━━━━━━━━━━━━━━━━━━━━━━━━━━━━\u001b[0m \u001b[32m107.8/107.8 kB\u001b[0m \u001b[31m2.7 MB/s\u001b[0m eta \u001b[36m0:00:00\u001b[0m\n",
            "\u001b[?25hDownloading pyaml-25.1.0-py3-none-any.whl (26 kB)\n",
            "Installing collected packages: pyaml, scikit-optimize\n",
            "Successfully installed pyaml-25.1.0 scikit-optimize-0.10.2\n"
          ]
        }
      ]
    },
    {
      "cell_type": "code",
      "execution_count": 4,
      "metadata": {
        "id": "2t9YZ973SjMG"
      },
      "outputs": [],
      "source": [
        "import pandas as pd\n",
        "import numpy as np\n",
        "from sklearn.ensemble import RandomForestClassifier\n",
        "from sklearn.tree import DecisionTreeClassifier\n",
        "from skopt import BayesSearchCV\n",
        "from sklearn.metrics import accuracy_score, precision_score, recall_score, f1_score\n",
        "from sklearn.model_selection import train_test_split\n",
        "from imblearn.over_sampling import SMOTE, ADASYN\n",
        "from imblearn.under_sampling import TomekLinks, RandomUnderSampler\n",
        "from sklearn.impute import SimpleImputer\n",
        "from sklearn.impute import KNNImputer"
      ]
    },
    {
      "cell_type": "code",
      "source": [
        "# Carregando a base Titanic\n",
        "df = pd.read_csv(\"https://raw.githubusercontent.com/datasciencedojo/datasets/master/titanic.csv\")\n"
      ],
      "metadata": {
        "id": "8hYEjG3ITEaG"
      },
      "execution_count": 5,
      "outputs": []
    },
    {
      "cell_type": "code",
      "source": [
        "# Tratamento inicial dos dados\n",
        "df = df[['Survived', 'Pclass', 'Sex', 'Age', 'Fare', 'Embarked']]\n",
        "df.dropna(subset=['Embarked'], inplace=True)\n",
        "df['Sex'] = df['Sex'].map({'male': 0, 'female': 1})\n",
        "df['Embarked'] = df['Embarked'].map({'C': 0, 'Q': 1, 'S': 2})\n",
        "\n",
        "# Separando features e labels\n",
        "X = df.drop(columns=['Survived'])\n",
        "y = df['Survived']"
      ],
      "metadata": {
        "colab": {
          "base_uri": "https://localhost:8080/"
        },
        "id": "g-qsMOdvTrHI",
        "outputId": "bba17210-0c52-43f4-8681-ee659aebb90d"
      },
      "execution_count": 6,
      "outputs": [
        {
          "output_type": "stream",
          "name": "stderr",
          "text": [
            "<ipython-input-6-671bc728efff>:3: SettingWithCopyWarning: \n",
            "A value is trying to be set on a copy of a slice from a DataFrame\n",
            "\n",
            "See the caveats in the documentation: https://pandas.pydata.org/pandas-docs/stable/user_guide/indexing.html#returning-a-view-versus-a-copy\n",
            "  df.dropna(subset=['Embarked'], inplace=True)\n",
            "<ipython-input-6-671bc728efff>:4: SettingWithCopyWarning: \n",
            "A value is trying to be set on a copy of a slice from a DataFrame.\n",
            "Try using .loc[row_indexer,col_indexer] = value instead\n",
            "\n",
            "See the caveats in the documentation: https://pandas.pydata.org/pandas-docs/stable/user_guide/indexing.html#returning-a-view-versus-a-copy\n",
            "  df['Sex'] = df['Sex'].map({'male': 0, 'female': 1})\n",
            "<ipython-input-6-671bc728efff>:5: SettingWithCopyWarning: \n",
            "A value is trying to be set on a copy of a slice from a DataFrame.\n",
            "Try using .loc[row_indexer,col_indexer] = value instead\n",
            "\n",
            "See the caveats in the documentation: https://pandas.pydata.org/pandas-docs/stable/user_guide/indexing.html#returning-a-view-versus-a-copy\n",
            "  df['Embarked'] = df['Embarked'].map({'C': 0, 'Q': 1, 'S': 2})\n"
          ]
        }
      ]
    },
    {
      "cell_type": "code",
      "source": [
        "# Divisão treino/teste\n",
        "X_train, X_test, y_train, y_test = train_test_split(X, y, test_size=0.2, random_state=42)"
      ],
      "metadata": {
        "id": "1vKL4QiJTwC3"
      },
      "execution_count": 7,
      "outputs": []
    },
    {
      "cell_type": "markdown",
      "source": [
        "Questão 1 - Utilizando o otimizador BayesSearchCV (from skopt import BayesSearchCV), ajuste os hiperparâmetros do Random Forest e Árvore de decisão para o problema do TITANIC"
      ],
      "metadata": {
        "id": "qEW5yDCdT31d"
      }
    },
    {
      "cell_type": "code",
      "source": [
        "param_grid_rf = {'n_estimators': (10, 200), 'max_depth': (1, 20)}\n",
        "param_grid_dt = {'max_depth': (1, 20), 'min_samples_split': (2, 10)}\n",
        "\n",
        "rf_search = BayesSearchCV(RandomForestClassifier(), param_grid_rf, n_iter=30, cv=5)\n",
        "dt_search = BayesSearchCV(DecisionTreeClassifier(), param_grid_dt, n_iter=30, cv=5)\n",
        "\n",
        "rf_search.fit(X_train, y_train)\n",
        "dt_search.fit(X_train, y_train)\n",
        "\n",
        "# Melhores modelos\n",
        "rf_best = rf_search.best_estimator_\n",
        "dt_best = dt_search.best_estimator_\n",
        "\n",
        "# Avaliação\n",
        "y_pred_rf = rf_best.predict(X_test)\n",
        "y_pred_dt = dt_best.predict(X_test)\n",
        "\n",
        "print(\"Random Forest - Acurácia:\", accuracy_score(y_test, y_pred_rf))\n",
        "print(\"Árvore de Decisão - Acurácia:\", accuracy_score(y_test, y_pred_dt))"
      ],
      "metadata": {
        "colab": {
          "base_uri": "https://localhost:8080/"
        },
        "id": "7k2c0mKLTwva",
        "outputId": "587211d6-2443-4c74-c618-ecebd3b3aea7"
      },
      "execution_count": 8,
      "outputs": [
        {
          "output_type": "stream",
          "name": "stderr",
          "text": [
            "/usr/local/lib/python3.11/dist-packages/skopt/optimizer/optimizer.py:517: UserWarning: The objective has been evaluated at point [np.int64(7), np.int64(200)] before, using random point [np.int64(2), np.int64(138)]\n",
            "  warnings.warn(\n",
            "/usr/local/lib/python3.11/dist-packages/skopt/optimizer/optimizer.py:517: UserWarning: The objective has been evaluated at point [np.int64(7), np.int64(200)] before, using random point [np.int64(15), np.int64(66)]\n",
            "  warnings.warn(\n",
            "/usr/local/lib/python3.11/dist-packages/skopt/optimizer/optimizer.py:517: UserWarning: The objective has been evaluated at point [np.int64(7), np.int64(200)] before, using random point [np.int64(16), np.int64(18)]\n",
            "  warnings.warn(\n",
            "/usr/local/lib/python3.11/dist-packages/skopt/optimizer/optimizer.py:517: UserWarning: The objective has been evaluated at point [np.int64(17), np.int64(10)] before, using random point [np.int64(8), np.int64(8)]\n",
            "  warnings.warn(\n"
          ]
        },
        {
          "output_type": "stream",
          "name": "stdout",
          "text": [
            "Random Forest - Acurácia: 0.8258426966292135\n",
            "Árvore de Decisão - Acurácia: 0.7865168539325843\n"
          ]
        }
      ]
    },
    {
      "cell_type": "markdown",
      "source": [
        "Questão 2 - Uma vez que a base de dados do Titanic é desbalanceada, investigue métodos de balanceamento para balancear as classes."
      ],
      "metadata": {
        "id": "LVV6t-zuUJN3"
      }
    },
    {
      "cell_type": "code",
      "source": [
        "# Imputação de valores ausentes antes de aplicar SMOTE\n",
        "imp_mean = SimpleImputer(strategy='mean')\n",
        "X_train_imputed = imp_mean.fit_transform(X_train)\n",
        "\n",
        "# SMOTE\n",
        "smote = SMOTE()\n",
        "X_res, y_res = smote.fit_resample(X_train_imputed, y_train)\n",
        "\n",
        "# TomekLinks\n",
        "tomek = TomekLinks()\n",
        "X_res_tl, y_res_tl = tomek.fit_resample(X_train_imputed, y_train)\n",
        "\n",
        "# RandomUnderSampler\n",
        "under = RandomUnderSampler()\n",
        "X_res_under, y_res_under = under.fit_resample(X_train_imputed, y_train)\n",
        "\n",
        "# ADASYN (Substituto para DSTO-GAN)\n",
        "adasyn = ADASYN()\n",
        "X_res_adasyn, y_res_adasyn = adasyn.fit_resample(X_train_imputed, y_train)\n",
        "\n",
        "# Avaliação com modelos balanceados\n",
        "for name, X_bal, y_bal in zip([\"SMOTE\", \"TomekLinks\", \"RandomUnderSampler\", \"ADASYN\"],\n",
        "                               [X_res, X_res_tl, X_res_under, X_res_adasyn],\n",
        "                               [y_res, y_res_tl, y_res_under, y_res_adasyn]):\n",
        "    model = RandomForestClassifier().fit(X_bal, y_bal)\n",
        "    y_pred = model.predict(X_test)\n",
        "    print(f\"{name} - Precisão:\", precision_score(y_test, y_pred))\n",
        "    print(f\"{name} - Recall:\", recall_score(y_test, y_pred))\n",
        "    print(f\"{name} - F1-Score:\", f1_score(y_test, y_pred))"
      ],
      "metadata": {
        "colab": {
          "base_uri": "https://localhost:8080/"
        },
        "id": "uLqfY9RdUQRe",
        "outputId": "33d8d0c7-6860-449e-ffed-8447cfba0d3c"
      },
      "execution_count": 9,
      "outputs": [
        {
          "output_type": "stream",
          "name": "stderr",
          "text": [
            "/usr/local/lib/python3.11/dist-packages/sklearn/utils/validation.py:2732: UserWarning: X has feature names, but RandomForestClassifier was fitted without feature names\n",
            "  warnings.warn(\n"
          ]
        },
        {
          "output_type": "stream",
          "name": "stdout",
          "text": [
            "SMOTE - Precisão: 0.75\n",
            "SMOTE - Recall: 0.8260869565217391\n",
            "SMOTE - F1-Score: 0.7862068965517242\n"
          ]
        },
        {
          "output_type": "stream",
          "name": "stderr",
          "text": [
            "/usr/local/lib/python3.11/dist-packages/sklearn/utils/validation.py:2732: UserWarning: X has feature names, but RandomForestClassifier was fitted without feature names\n",
            "  warnings.warn(\n"
          ]
        },
        {
          "output_type": "stream",
          "name": "stdout",
          "text": [
            "TomekLinks - Precisão: 0.6904761904761905\n",
            "TomekLinks - Recall: 0.8405797101449275\n",
            "TomekLinks - F1-Score: 0.7581699346405228\n"
          ]
        },
        {
          "output_type": "stream",
          "name": "stderr",
          "text": [
            "/usr/local/lib/python3.11/dist-packages/sklearn/utils/validation.py:2732: UserWarning: X has feature names, but RandomForestClassifier was fitted without feature names\n",
            "  warnings.warn(\n"
          ]
        },
        {
          "output_type": "stream",
          "name": "stdout",
          "text": [
            "RandomUnderSampler - Precisão: 0.651685393258427\n",
            "RandomUnderSampler - Recall: 0.8405797101449275\n",
            "RandomUnderSampler - F1-Score: 0.7341772151898734\n",
            "ADASYN - Precisão: 0.75\n",
            "ADASYN - Recall: 0.8260869565217391\n",
            "ADASYN - F1-Score: 0.7862068965517242\n"
          ]
        },
        {
          "output_type": "stream",
          "name": "stderr",
          "text": [
            "/usr/local/lib/python3.11/dist-packages/sklearn/utils/validation.py:2732: UserWarning: X has feature names, but RandomForestClassifier was fitted without feature names\n",
            "  warnings.warn(\n"
          ]
        }
      ]
    },
    {
      "cell_type": "markdown",
      "source": [
        "Questão 3 - Uma vez que a base de dados do Titanic possui dados ausentes, investigue métodos de imputação para imputar as ausências desta base de dados"
      ],
      "metadata": {
        "id": "OMcENYF-UsBv"
      }
    },
    {
      "cell_type": "code",
      "source": [
        "# Criando dados com valores ausentes para simulação\n",
        "X_missing = X.copy()\n",
        "X_missing.loc[np.random.randint(0, X.shape[0], 20), 'Age'] = np.nan\n",
        "\n",
        "# Imputação por Média\n",
        "imp_mean = SimpleImputer(strategy='mean')\n",
        "X_imputed_mean = imp_mean.fit_transform(X_missing)\n",
        "\n",
        "# Imputação por Moda\n",
        "imp_mode = SimpleImputer(strategy='most_frequent')\n",
        "X_imputed_mode = imp_mode.fit_transform(X_missing)\n",
        "\n",
        "# Imputação por KNN\n",
        "imp_knn = KNNImputer(n_neighbors=3)\n",
        "X_imputed_knn = imp_knn.fit_transform(X_missing)\n",
        "\n",
        "# Avaliação\n",
        "models = {\n",
        "    \"Média\": X_imputed_mean,\n",
        "    \"Moda\": X_imputed_mode,\n",
        "    \"KNN\": X_imputed_knn\n",
        "}\n",
        "\n",
        "for name, X_imp in models.items():\n",
        "    model = RandomForestClassifier().fit(X_imp, y)\n",
        "    y_pred = model.predict(X_test)\n",
        "    print(f\"{name} - Acurácia:\", accuracy_score(y_test, y_pred))"
      ],
      "metadata": {
        "colab": {
          "base_uri": "https://localhost:8080/"
        },
        "id": "JIL763vDU79Y",
        "outputId": "d28db0ea-a800-4a5e-c090-860ffd5a01c4"
      },
      "execution_count": 10,
      "outputs": [
        {
          "output_type": "stream",
          "name": "stderr",
          "text": [
            "/usr/local/lib/python3.11/dist-packages/sklearn/utils/validation.py:2732: UserWarning: X has feature names, but RandomForestClassifier was fitted without feature names\n",
            "  warnings.warn(\n"
          ]
        },
        {
          "output_type": "stream",
          "name": "stdout",
          "text": [
            "Média - Acurácia: 0.9719101123595506\n"
          ]
        },
        {
          "output_type": "stream",
          "name": "stderr",
          "text": [
            "/usr/local/lib/python3.11/dist-packages/sklearn/utils/validation.py:2732: UserWarning: X has feature names, but RandomForestClassifier was fitted without feature names\n",
            "  warnings.warn(\n"
          ]
        },
        {
          "output_type": "stream",
          "name": "stdout",
          "text": [
            "Moda - Acurácia: 0.9831460674157303\n",
            "KNN - Acurácia: 0.9662921348314607\n"
          ]
        },
        {
          "output_type": "stream",
          "name": "stderr",
          "text": [
            "/usr/local/lib/python3.11/dist-packages/sklearn/utils/validation.py:2732: UserWarning: X has feature names, but RandomForestClassifier was fitted without feature names\n",
            "  warnings.warn(\n"
          ]
        }
      ]
    }
  ]
}