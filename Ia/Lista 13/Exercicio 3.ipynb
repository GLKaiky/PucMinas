{
 "cells": [
  {
   "cell_type": "code",
   "execution_count": 1,
   "id": "cba87a4d-8259-49df-a948-7d2b4f9ab30c",
   "metadata": {},
   "outputs": [],
   "source": [
    "import pandas as pd\n"
   ]
  },
  {
   "cell_type": "code",
   "execution_count": 2,
   "id": "855a334d-19b9-4cd8-88a6-79476c821137",
   "metadata": {},
   "outputs": [],
   "source": [
    "data = {\n",
    "    'Personagem': ['Ana', 'Bruno', 'Carla', 'Diego', 'Elisa'],\n",
    "    'Altura (cm)': [148, 165, 172, 180, 191]\n",
    "}\n",
    "df = pd.DataFrame(data)"
   ]
  },
  {
   "cell_type": "code",
   "execution_count": 3,
   "id": "99bf083e-d751-402e-99b2-b4006756ddd7",
   "metadata": {},
   "outputs": [],
   "source": [
    "# Regra: Se altura >= 170, é \"alto\" (1), senão \"não alto\" (0)\n",
    "df['Alto (lógica clássica)'] = df['Altura (cm)'].apply(lambda h: 1 if h >= 170 else 0)"
   ]
  },
  {
   "cell_type": "code",
   "execution_count": 4,
   "id": "a09c197c-9d49-4059-8ee9-fbca41c0a3fe",
   "metadata": {},
   "outputs": [
    {
     "name": "stdout",
     "output_type": "stream",
     "text": [
      "--- Tabela com Lógica Clássica ---\n",
      "  Personagem  Altura (cm)  Alto (lógica clássica)\n",
      "0        Ana          148                       0\n",
      "1      Bruno          165                       0\n",
      "2      Carla          172                       1\n",
      "3      Diego          180                       1\n",
      "4      Elisa          191                       1\n",
      "\n",
      "========================================\n",
      "\n"
     ]
    }
   ],
   "source": [
    "print(\"--- Tabela com Lógica Clássica ---\")\n",
    "print(df)\n",
    "print(\"\\n\" + \"=\"*40 + \"\\n\")"
   ]
  },
  {
   "cell_type": "code",
   "execution_count": 5,
   "id": "7c3da879-9ed6-4470-a886-1ce5c30b1c9f",
   "metadata": {},
   "outputs": [],
   "source": [
    "def calcular_grau_alto_fuzzy(altura):\n",
    "    \"\"\"\n",
    "    Calcula o grau de pertinência 'alto' usando uma função linear.\n",
    "    \"\"\"\n",
    "    if altura < 160:\n",
    "        return 0.0\n",
    "    elif 160 <= altura <= 190:\n",
    "        # Fórmula da rampa linear: (altura - início_rampa) / (fim_rampa - início_rampa)\n",
    "        return (altura - 160) / (190 - 160)\n",
    "    else: # altura > 190\n",
    "        return 1.0"
   ]
  },
  {
   "cell_type": "code",
   "execution_count": 6,
   "id": "1a2428a4-d7a7-41cc-a628-2a180d71ef5d",
   "metadata": {},
   "outputs": [
    {
     "name": "stdout",
     "output_type": "stream",
     "text": [
      "--- Tabela com Lógica Fuzzy ---\n",
      "  Personagem  Altura (cm)  Grau de \"alto\" (fuzzy)\n",
      "0        Ana          148                0.000000\n",
      "1      Bruno          165                0.166667\n",
      "2      Carla          172                0.400000\n",
      "3      Diego          180                0.666667\n",
      "4      Elisa          191                1.000000\n"
     ]
    }
   ],
   "source": [
    "df_fuzzy = pd.DataFrame(data) # Recriando para mostrar separadamente\n",
    "df_fuzzy['Grau de \"alto\" (fuzzy)'] = df_fuzzy['Altura (cm)'].apply(calcular_grau_alto_fuzzy)\n",
    "\n",
    "\n",
    "print(\"--- Tabela com Lógica Fuzzy ---\")\n",
    "print(df_fuzzy)\n"
   ]
  },
  {
   "cell_type": "code",
   "execution_count": null,
   "id": "c6f2544b-4b9d-4175-ba0b-dab0fefa61b3",
   "metadata": {},
   "outputs": [],
   "source": []
  }
 ],
 "metadata": {
  "kernelspec": {
   "display_name": "Python 3 (ipykernel)",
   "language": "python",
   "name": "python3"
  },
  "language_info": {
   "codemirror_mode": {
    "name": "ipython",
    "version": 3
   },
   "file_extension": ".py",
   "mimetype": "text/x-python",
   "name": "python",
   "nbconvert_exporter": "python",
   "pygments_lexer": "ipython3",
   "version": "3.12.3"
  }
 },
 "nbformat": 4,
 "nbformat_minor": 5
}
